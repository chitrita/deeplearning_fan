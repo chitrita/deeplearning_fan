{
 "cells": [
  {
   "cell_type": "code",
   "execution_count": null,
   "metadata": {},
   "outputs": [],
   "source": [
    "# Use the same normalization for both datasets\n",
    "\n",
    "scvis train --data_matrix_file ../../data/amp_ra_pca100_integer.tsv \\\n",
    "    --out_dir ../output/ra \\\n",
    "    --data_label_file ../../data/amp_ra_cluster_integerlabel.tsv \\\n",
    "    --verbose \\\n",
    "    --verbose_interval 50 \\\n",
    "    --normalize 1.0\n",
    "\n",
    "scvis map --data_matrix_file ../../data/amp_sle_pca100_integer.tsv \\\n",
    "    --out_dir ../output/sle \\\n",
    "    --normalize 1.0 \\\n",
    "    --pretrained_model_file ../output/ra/model/perplexity_10_regularizer_0.001_batch_size_512_learning_rate_0.01_latent_dimension_2_activation_ELU_seed_1_iter_3000.ckpt\n",
    "\n",
    "\n",
    "scvis map --data_matrix_file ../../data/satija_pca100.tsv \\\n",
    "    --out_dir ../output_train_ra_normalization/satija \\\n",
    "    --normalize 1.0 \\\n",
    "    --pretrained_model_file ../output_train_ra_normalization/ra/model/perplexity_10_regularizer_0.001_batch_size_512_learning_rate_0.01_latent_dimension_2_activation_ELU_seed_1_iter_3000.ckpt\n",
    "\n"
   ]
  }
 ],
 "metadata": {
  "kernelspec": {
   "display_name": "Python 3",
   "language": "python",
   "name": "python3"
  },
  "language_info": {
   "codemirror_mode": {
    "name": "ipython",
    "version": 3
   },
   "file_extension": ".py",
   "mimetype": "text/x-python",
   "name": "python",
   "nbconvert_exporter": "python",
   "pygments_lexer": "ipython3",
   "version": "3.6.4"
  }
 },
 "nbformat": 4,
 "nbformat_minor": 2
}
